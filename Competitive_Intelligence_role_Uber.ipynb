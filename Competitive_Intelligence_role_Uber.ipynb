{
  "nbformat": 4,
  "nbformat_minor": 0,
  "metadata": {
    "colab": {
      "provenance": []
    },
    "kernelspec": {
      "name": "python3",
      "display_name": "Python 3"
    },
    "language_info": {
      "name": "python"
    }
  },
  "cells": [
    {
      "cell_type": "markdown",
      "source": [
        "**Project Title**"
      ],
      "metadata": {
        "id": "FgkO8unp6Jxl"
      }
    },
    {
      "cell_type": "markdown",
      "source": [
        "AI-Driven Competitive Strategy Optimization Using Marketplace and Mobility Data"
      ],
      "metadata": {
        "id": "zupGJkdpSZZn"
      }
    },
    {
      "cell_type": "markdown",
      "source": [
        " **Goal**"
      ],
      "metadata": {
        "id": "OnpYqbii6JpZ"
      }
    },
    {
      "cell_type": "markdown",
      "source": [
        "To harness machine learning, time series analysis, and causal inference to generate competitive business insights across dual-sided platforms (e.g., Airbnb, Uber), enabling decision-makers to optimize pricing, resource allocation, and marketing effectiveness.\n",
        "\n"
      ],
      "metadata": {
        "id": "QPUiMxvkSivL"
      }
    },
    {
      "cell_type": "markdown",
      "source": [
        "**Intended Audience**"
      ],
      "metadata": {
        "id": "sfgNHpNjSmbf"
      }
    },
    {
      "cell_type": "markdown",
      "source": [
        "1. Marketplace Analysts at tech companies (e.g., Airbnb, Uber, Lyft)\n",
        "\n",
        "2. Marketing & Growth Teams focused on campaign impact\n",
        "\n",
        "3. Urban Planners and Logistics Managers\n",
        "\n",
        "4. Data Scientists and Product Managers in mobility and e-commerce platforms"
      ],
      "metadata": {
        "id": "L5ugP18_Srnb"
      }
    },
    {
      "cell_type": "markdown",
      "source": [
        "**Strategy & Pipeline Steps**"
      ],
      "metadata": {
        "id": "tx-h9bhUS1Fw"
      }
    },
    {
      "cell_type": "markdown",
      "source": [
        "1. Data Integration & Preparation\n",
        "- Combine multiple public datasets (Airbnb NYC, Uber pickup logs, Marketing A/B test)\n",
        "\n",
        "Clean and normalize fields (price, time, location, conversions)\n",
        "\n",
        "2. Competitive Intelligence\n",
        "- Price & availability analysis by borough/room type (Airbnb)\n",
        "\n",
        "- Identify top-performing regions and hosts based on price metrics\n",
        "\n",
        "- Compute competition index (proxy: reviews/listings)\n",
        "\n",
        "3. Large-Scale Temporal Demand Modeling\n",
        "- Time-based grouping (Uber pickups by hour/day/month)\n",
        "\n",
        "- Apply K-Means clustering on geospatial coordinates\n",
        "\n",
        "- Simulate rush hour load and identify operational hotspots\n",
        "\n",
        "4. Causal Inference & Business Strategy\n",
        "- Perform A/B testing on marketing campaign data\n",
        "\n",
        "- Model propensity scores via logistic regression\n",
        "\n",
        "- Compute Weighted ATE to simulate counterfactuals\n",
        "\n",
        "- Provide business decision support based on lift"
      ],
      "metadata": {
        "id": "GrpGwSZBS53w"
      }
    },
    {
      "cell_type": "markdown",
      "source": [
        "**Competitive Intelligence**"
      ],
      "metadata": {
        "id": "y8Dn6fcT6Jf1"
      }
    },
    {
      "cell_type": "markdown",
      "source": [
        "** 1. Load & Preview Data**"
      ],
      "metadata": {
        "id": "Xnc2FFs56Pac"
      }
    },
    {
      "cell_type": "code",
      "source": [
        "import pandas as pd\n",
        "\n",
        "df = pd.read_csv('/content/AB_NYC_2019.csv')\n",
        "df = df[['id', 'name', 'host_id', 'host_name', 'neighbourhood_group', 'neighbourhood',\n",
        "         'room_type', 'price', 'minimum_nights', 'number_of_reviews', 'availability_365']]\n",
        "df.dropna(subset=['price'], inplace=True)\n",
        "df = df[df['price'] > 0]\n",
        "df.head()\n"
      ],
      "metadata": {
        "colab": {
          "base_uri": "https://localhost:8080/",
          "height": 293
        },
        "id": "2aLj4uEa6T4E",
        "outputId": "4b9e002c-5f4e-4e72-dee8-89ddb1ee1523"
      },
      "execution_count": 1,
      "outputs": [
        {
          "output_type": "execute_result",
          "data": {
            "text/plain": [
              "     id                                              name  host_id  \\\n",
              "0  2539                Clean & quiet apt home by the park     2787   \n",
              "1  2595                             Skylit Midtown Castle     2845   \n",
              "2  3647               THE VILLAGE OF HARLEM....NEW YORK !     4632   \n",
              "3  3831                   Cozy Entire Floor of Brownstone     4869   \n",
              "4  5022  Entire Apt: Spacious Studio/Loft by central park     7192   \n",
              "\n",
              "     host_name neighbourhood_group neighbourhood        room_type  price  \\\n",
              "0         John            Brooklyn    Kensington     Private room    149   \n",
              "1     Jennifer           Manhattan       Midtown  Entire home/apt    225   \n",
              "2    Elisabeth           Manhattan        Harlem     Private room    150   \n",
              "3  LisaRoxanne            Brooklyn  Clinton Hill  Entire home/apt     89   \n",
              "4        Laura           Manhattan   East Harlem  Entire home/apt     80   \n",
              "\n",
              "   minimum_nights  number_of_reviews  availability_365  \n",
              "0               1                  9               365  \n",
              "1               1                 45               355  \n",
              "2               3                  0               365  \n",
              "3               1                270               194  \n",
              "4              10                  9                 0  "
            ],
            "text/html": [
              "\n",
              "  <div id=\"df-5afae8de-3230-4918-bca4-d469c45effa3\" class=\"colab-df-container\">\n",
              "    <div>\n",
              "<style scoped>\n",
              "    .dataframe tbody tr th:only-of-type {\n",
              "        vertical-align: middle;\n",
              "    }\n",
              "\n",
              "    .dataframe tbody tr th {\n",
              "        vertical-align: top;\n",
              "    }\n",
              "\n",
              "    .dataframe thead th {\n",
              "        text-align: right;\n",
              "    }\n",
              "</style>\n",
              "<table border=\"1\" class=\"dataframe\">\n",
              "  <thead>\n",
              "    <tr style=\"text-align: right;\">\n",
              "      <th></th>\n",
              "      <th>id</th>\n",
              "      <th>name</th>\n",
              "      <th>host_id</th>\n",
              "      <th>host_name</th>\n",
              "      <th>neighbourhood_group</th>\n",
              "      <th>neighbourhood</th>\n",
              "      <th>room_type</th>\n",
              "      <th>price</th>\n",
              "      <th>minimum_nights</th>\n",
              "      <th>number_of_reviews</th>\n",
              "      <th>availability_365</th>\n",
              "    </tr>\n",
              "  </thead>\n",
              "  <tbody>\n",
              "    <tr>\n",
              "      <th>0</th>\n",
              "      <td>2539</td>\n",
              "      <td>Clean &amp; quiet apt home by the park</td>\n",
              "      <td>2787</td>\n",
              "      <td>John</td>\n",
              "      <td>Brooklyn</td>\n",
              "      <td>Kensington</td>\n",
              "      <td>Private room</td>\n",
              "      <td>149</td>\n",
              "      <td>1</td>\n",
              "      <td>9</td>\n",
              "      <td>365</td>\n",
              "    </tr>\n",
              "    <tr>\n",
              "      <th>1</th>\n",
              "      <td>2595</td>\n",
              "      <td>Skylit Midtown Castle</td>\n",
              "      <td>2845</td>\n",
              "      <td>Jennifer</td>\n",
              "      <td>Manhattan</td>\n",
              "      <td>Midtown</td>\n",
              "      <td>Entire home/apt</td>\n",
              "      <td>225</td>\n",
              "      <td>1</td>\n",
              "      <td>45</td>\n",
              "      <td>355</td>\n",
              "    </tr>\n",
              "    <tr>\n",
              "      <th>2</th>\n",
              "      <td>3647</td>\n",
              "      <td>THE VILLAGE OF HARLEM....NEW YORK !</td>\n",
              "      <td>4632</td>\n",
              "      <td>Elisabeth</td>\n",
              "      <td>Manhattan</td>\n",
              "      <td>Harlem</td>\n",
              "      <td>Private room</td>\n",
              "      <td>150</td>\n",
              "      <td>3</td>\n",
              "      <td>0</td>\n",
              "      <td>365</td>\n",
              "    </tr>\n",
              "    <tr>\n",
              "      <th>3</th>\n",
              "      <td>3831</td>\n",
              "      <td>Cozy Entire Floor of Brownstone</td>\n",
              "      <td>4869</td>\n",
              "      <td>LisaRoxanne</td>\n",
              "      <td>Brooklyn</td>\n",
              "      <td>Clinton Hill</td>\n",
              "      <td>Entire home/apt</td>\n",
              "      <td>89</td>\n",
              "      <td>1</td>\n",
              "      <td>270</td>\n",
              "      <td>194</td>\n",
              "    </tr>\n",
              "    <tr>\n",
              "      <th>4</th>\n",
              "      <td>5022</td>\n",
              "      <td>Entire Apt: Spacious Studio/Loft by central park</td>\n",
              "      <td>7192</td>\n",
              "      <td>Laura</td>\n",
              "      <td>Manhattan</td>\n",
              "      <td>East Harlem</td>\n",
              "      <td>Entire home/apt</td>\n",
              "      <td>80</td>\n",
              "      <td>10</td>\n",
              "      <td>9</td>\n",
              "      <td>0</td>\n",
              "    </tr>\n",
              "  </tbody>\n",
              "</table>\n",
              "</div>\n",
              "    <div class=\"colab-df-buttons\">\n",
              "\n",
              "  <div class=\"colab-df-container\">\n",
              "    <button class=\"colab-df-convert\" onclick=\"convertToInteractive('df-5afae8de-3230-4918-bca4-d469c45effa3')\"\n",
              "            title=\"Convert this dataframe to an interactive table.\"\n",
              "            style=\"display:none;\">\n",
              "\n",
              "  <svg xmlns=\"http://www.w3.org/2000/svg\" height=\"24px\" viewBox=\"0 -960 960 960\">\n",
              "    <path d=\"M120-120v-720h720v720H120Zm60-500h600v-160H180v160Zm220 220h160v-160H400v160Zm0 220h160v-160H400v160ZM180-400h160v-160H180v160Zm440 0h160v-160H620v160ZM180-180h160v-160H180v160Zm440 0h160v-160H620v160Z\"/>\n",
              "  </svg>\n",
              "    </button>\n",
              "\n",
              "  <style>\n",
              "    .colab-df-container {\n",
              "      display:flex;\n",
              "      gap: 12px;\n",
              "    }\n",
              "\n",
              "    .colab-df-convert {\n",
              "      background-color: #E8F0FE;\n",
              "      border: none;\n",
              "      border-radius: 50%;\n",
              "      cursor: pointer;\n",
              "      display: none;\n",
              "      fill: #1967D2;\n",
              "      height: 32px;\n",
              "      padding: 0 0 0 0;\n",
              "      width: 32px;\n",
              "    }\n",
              "\n",
              "    .colab-df-convert:hover {\n",
              "      background-color: #E2EBFA;\n",
              "      box-shadow: 0px 1px 2px rgba(60, 64, 67, 0.3), 0px 1px 3px 1px rgba(60, 64, 67, 0.15);\n",
              "      fill: #174EA6;\n",
              "    }\n",
              "\n",
              "    .colab-df-buttons div {\n",
              "      margin-bottom: 4px;\n",
              "    }\n",
              "\n",
              "    [theme=dark] .colab-df-convert {\n",
              "      background-color: #3B4455;\n",
              "      fill: #D2E3FC;\n",
              "    }\n",
              "\n",
              "    [theme=dark] .colab-df-convert:hover {\n",
              "      background-color: #434B5C;\n",
              "      box-shadow: 0px 1px 3px 1px rgba(0, 0, 0, 0.15);\n",
              "      filter: drop-shadow(0px 1px 2px rgba(0, 0, 0, 0.3));\n",
              "      fill: #FFFFFF;\n",
              "    }\n",
              "  </style>\n",
              "\n",
              "    <script>\n",
              "      const buttonEl =\n",
              "        document.querySelector('#df-5afae8de-3230-4918-bca4-d469c45effa3 button.colab-df-convert');\n",
              "      buttonEl.style.display =\n",
              "        google.colab.kernel.accessAllowed ? 'block' : 'none';\n",
              "\n",
              "      async function convertToInteractive(key) {\n",
              "        const element = document.querySelector('#df-5afae8de-3230-4918-bca4-d469c45effa3');\n",
              "        const dataTable =\n",
              "          await google.colab.kernel.invokeFunction('convertToInteractive',\n",
              "                                                    [key], {});\n",
              "        if (!dataTable) return;\n",
              "\n",
              "        const docLinkHtml = 'Like what you see? Visit the ' +\n",
              "          '<a target=\"_blank\" href=https://colab.research.google.com/notebooks/data_table.ipynb>data table notebook</a>'\n",
              "          + ' to learn more about interactive tables.';\n",
              "        element.innerHTML = '';\n",
              "        dataTable['output_type'] = 'display_data';\n",
              "        await google.colab.output.renderOutput(dataTable, element);\n",
              "        const docLink = document.createElement('div');\n",
              "        docLink.innerHTML = docLinkHtml;\n",
              "        element.appendChild(docLink);\n",
              "      }\n",
              "    </script>\n",
              "  </div>\n",
              "\n",
              "\n",
              "    <div id=\"df-e1b06326-9695-480e-80c9-80518d57aff5\">\n",
              "      <button class=\"colab-df-quickchart\" onclick=\"quickchart('df-e1b06326-9695-480e-80c9-80518d57aff5')\"\n",
              "                title=\"Suggest charts\"\n",
              "                style=\"display:none;\">\n",
              "\n",
              "<svg xmlns=\"http://www.w3.org/2000/svg\" height=\"24px\"viewBox=\"0 0 24 24\"\n",
              "     width=\"24px\">\n",
              "    <g>\n",
              "        <path d=\"M19 3H5c-1.1 0-2 .9-2 2v14c0 1.1.9 2 2 2h14c1.1 0 2-.9 2-2V5c0-1.1-.9-2-2-2zM9 17H7v-7h2v7zm4 0h-2V7h2v10zm4 0h-2v-4h2v4z\"/>\n",
              "    </g>\n",
              "</svg>\n",
              "      </button>\n",
              "\n",
              "<style>\n",
              "  .colab-df-quickchart {\n",
              "      --bg-color: #E8F0FE;\n",
              "      --fill-color: #1967D2;\n",
              "      --hover-bg-color: #E2EBFA;\n",
              "      --hover-fill-color: #174EA6;\n",
              "      --disabled-fill-color: #AAA;\n",
              "      --disabled-bg-color: #DDD;\n",
              "  }\n",
              "\n",
              "  [theme=dark] .colab-df-quickchart {\n",
              "      --bg-color: #3B4455;\n",
              "      --fill-color: #D2E3FC;\n",
              "      --hover-bg-color: #434B5C;\n",
              "      --hover-fill-color: #FFFFFF;\n",
              "      --disabled-bg-color: #3B4455;\n",
              "      --disabled-fill-color: #666;\n",
              "  }\n",
              "\n",
              "  .colab-df-quickchart {\n",
              "    background-color: var(--bg-color);\n",
              "    border: none;\n",
              "    border-radius: 50%;\n",
              "    cursor: pointer;\n",
              "    display: none;\n",
              "    fill: var(--fill-color);\n",
              "    height: 32px;\n",
              "    padding: 0;\n",
              "    width: 32px;\n",
              "  }\n",
              "\n",
              "  .colab-df-quickchart:hover {\n",
              "    background-color: var(--hover-bg-color);\n",
              "    box-shadow: 0 1px 2px rgba(60, 64, 67, 0.3), 0 1px 3px 1px rgba(60, 64, 67, 0.15);\n",
              "    fill: var(--button-hover-fill-color);\n",
              "  }\n",
              "\n",
              "  .colab-df-quickchart-complete:disabled,\n",
              "  .colab-df-quickchart-complete:disabled:hover {\n",
              "    background-color: var(--disabled-bg-color);\n",
              "    fill: var(--disabled-fill-color);\n",
              "    box-shadow: none;\n",
              "  }\n",
              "\n",
              "  .colab-df-spinner {\n",
              "    border: 2px solid var(--fill-color);\n",
              "    border-color: transparent;\n",
              "    border-bottom-color: var(--fill-color);\n",
              "    animation:\n",
              "      spin 1s steps(1) infinite;\n",
              "  }\n",
              "\n",
              "  @keyframes spin {\n",
              "    0% {\n",
              "      border-color: transparent;\n",
              "      border-bottom-color: var(--fill-color);\n",
              "      border-left-color: var(--fill-color);\n",
              "    }\n",
              "    20% {\n",
              "      border-color: transparent;\n",
              "      border-left-color: var(--fill-color);\n",
              "      border-top-color: var(--fill-color);\n",
              "    }\n",
              "    30% {\n",
              "      border-color: transparent;\n",
              "      border-left-color: var(--fill-color);\n",
              "      border-top-color: var(--fill-color);\n",
              "      border-right-color: var(--fill-color);\n",
              "    }\n",
              "    40% {\n",
              "      border-color: transparent;\n",
              "      border-right-color: var(--fill-color);\n",
              "      border-top-color: var(--fill-color);\n",
              "    }\n",
              "    60% {\n",
              "      border-color: transparent;\n",
              "      border-right-color: var(--fill-color);\n",
              "    }\n",
              "    80% {\n",
              "      border-color: transparent;\n",
              "      border-right-color: var(--fill-color);\n",
              "      border-bottom-color: var(--fill-color);\n",
              "    }\n",
              "    90% {\n",
              "      border-color: transparent;\n",
              "      border-bottom-color: var(--fill-color);\n",
              "    }\n",
              "  }\n",
              "</style>\n",
              "\n",
              "      <script>\n",
              "        async function quickchart(key) {\n",
              "          const quickchartButtonEl =\n",
              "            document.querySelector('#' + key + ' button');\n",
              "          quickchartButtonEl.disabled = true;  // To prevent multiple clicks.\n",
              "          quickchartButtonEl.classList.add('colab-df-spinner');\n",
              "          try {\n",
              "            const charts = await google.colab.kernel.invokeFunction(\n",
              "                'suggestCharts', [key], {});\n",
              "          } catch (error) {\n",
              "            console.error('Error during call to suggestCharts:', error);\n",
              "          }\n",
              "          quickchartButtonEl.classList.remove('colab-df-spinner');\n",
              "          quickchartButtonEl.classList.add('colab-df-quickchart-complete');\n",
              "        }\n",
              "        (() => {\n",
              "          let quickchartButtonEl =\n",
              "            document.querySelector('#df-e1b06326-9695-480e-80c9-80518d57aff5 button');\n",
              "          quickchartButtonEl.style.display =\n",
              "            google.colab.kernel.accessAllowed ? 'block' : 'none';\n",
              "        })();\n",
              "      </script>\n",
              "    </div>\n",
              "\n",
              "    </div>\n",
              "  </div>\n"
            ],
            "application/vnd.google.colaboratory.intrinsic+json": {
              "type": "dataframe",
              "variable_name": "df",
              "summary": "{\n  \"name\": \"df\",\n  \"rows\": 48884,\n  \"fields\": [\n    {\n      \"column\": \"id\",\n      \"properties\": {\n        \"dtype\": \"number\",\n        \"std\": 10984315,\n        \"min\": 2539,\n        \"max\": 36487245,\n        \"num_unique_values\": 48884,\n        \"samples\": [\n          32172621,\n          17763622,\n          14868857\n        ],\n        \"semantic_type\": \"\",\n        \"description\": \"\"\n      }\n    },\n    {\n      \"column\": \"name\",\n      \"properties\": {\n        \"dtype\": \"string\",\n        \"num_unique_values\": 47894,\n        \"samples\": [\n          \"Bright, spacious one bedroom in Brooklyn\",\n          \"MANHATTAN LIVING!\",\n          \"Sunny beautiful large bedroom in Williamsburg\"\n        ],\n        \"semantic_type\": \"\",\n        \"description\": \"\"\n      }\n    },\n    {\n      \"column\": \"host_id\",\n      \"properties\": {\n        \"dtype\": \"number\",\n        \"std\": 78616662,\n        \"min\": 2438,\n        \"max\": 274321313,\n        \"num_unique_values\": 37455,\n        \"samples\": [\n          1504257,\n          49746853,\n          147186603\n        ],\n        \"semantic_type\": \"\",\n        \"description\": \"\"\n      }\n    },\n    {\n      \"column\": \"host_name\",\n      \"properties\": {\n        \"dtype\": \"category\",\n        \"num_unique_values\": 11450,\n        \"samples\": [\n          \"Mei Ni\",\n          \"Laine\",\n          \"Elen\"\n        ],\n        \"semantic_type\": \"\",\n        \"description\": \"\"\n      }\n    },\n    {\n      \"column\": \"neighbourhood_group\",\n      \"properties\": {\n        \"dtype\": \"category\",\n        \"num_unique_values\": 5,\n        \"samples\": [\n          \"Manhattan\",\n          \"Bronx\",\n          \"Queens\"\n        ],\n        \"semantic_type\": \"\",\n        \"description\": \"\"\n      }\n    },\n    {\n      \"column\": \"neighbourhood\",\n      \"properties\": {\n        \"dtype\": \"category\",\n        \"num_unique_values\": 221,\n        \"samples\": [\n          \"Stuyvesant Town\",\n          \"Eltingville\",\n          \"Stapleton\"\n        ],\n        \"semantic_type\": \"\",\n        \"description\": \"\"\n      }\n    },\n    {\n      \"column\": \"room_type\",\n      \"properties\": {\n        \"dtype\": \"category\",\n        \"num_unique_values\": 3,\n        \"samples\": [\n          \"Private room\",\n          \"Entire home/apt\",\n          \"Shared room\"\n        ],\n        \"semantic_type\": \"\",\n        \"description\": \"\"\n      }\n    },\n    {\n      \"column\": \"price\",\n      \"properties\": {\n        \"dtype\": \"number\",\n        \"std\": 240,\n        \"min\": 10,\n        \"max\": 10000,\n        \"num_unique_values\": 673,\n        \"samples\": [\n          433,\n          3750,\n          5250\n        ],\n        \"semantic_type\": \"\",\n        \"description\": \"\"\n      }\n    },\n    {\n      \"column\": \"minimum_nights\",\n      \"properties\": {\n        \"dtype\": \"number\",\n        \"std\": 20,\n        \"min\": 1,\n        \"max\": 1250,\n        \"num_unique_values\": 109,\n        \"samples\": [\n          160,\n          60,\n          2\n        ],\n        \"semantic_type\": \"\",\n        \"description\": \"\"\n      }\n    },\n    {\n      \"column\": \"number_of_reviews\",\n      \"properties\": {\n        \"dtype\": \"number\",\n        \"std\": 44,\n        \"min\": 0,\n        \"max\": 629,\n        \"num_unique_values\": 394,\n        \"samples\": [\n          12,\n          144,\n          314\n        ],\n        \"semantic_type\": \"\",\n        \"description\": \"\"\n      }\n    },\n    {\n      \"column\": \"availability_365\",\n      \"properties\": {\n        \"dtype\": \"number\",\n        \"std\": 131,\n        \"min\": 0,\n        \"max\": 365,\n        \"num_unique_values\": 366,\n        \"samples\": [\n          335,\n          309,\n          249\n        ],\n        \"semantic_type\": \"\",\n        \"description\": \"\"\n      }\n    }\n  ]\n}"
            }
          },
          "metadata": {},
          "execution_count": 1
        }
      ]
    },
    {
      "cell_type": "markdown",
      "source": [
        "**2. Pricing Strategy & Occupancy Analysis**"
      ],
      "metadata": {
        "id": "Jh22dZy66NrF"
      }
    },
    {
      "cell_type": "code",
      "source": [
        "# Average price & availability by borough and room type\n",
        "pricing_summary = df.groupby(['neighbourhood_group', 'room_type']).agg({\n",
        "    'price': 'mean', 'availability_365': 'mean'\n",
        "}).reset_index().rename(columns={'price': 'avg_price', 'availability_365': 'avg_availability'})\n",
        "print(pricing_summary)\n"
      ],
      "metadata": {
        "colab": {
          "base_uri": "https://localhost:8080/"
        },
        "id": "ZLcQWCMn6c8N",
        "outputId": "96f76b8c-cc52-498b-bee4-99d662f3207e"
      },
      "execution_count": 2,
      "outputs": [
        {
          "output_type": "stream",
          "name": "stdout",
          "text": [
            "   neighbourhood_group        room_type   avg_price  avg_availability\n",
            "0                Bronx  Entire home/apt  127.506596        158.000000\n",
            "1                Bronx     Private room   66.890937        171.399386\n",
            "2                Bronx      Shared room   59.800000        154.216667\n",
            "3             Brooklyn  Entire home/apt  178.346202         97.207679\n",
            "4             Brooklyn     Private room   76.545428         99.912206\n",
            "5             Brooklyn      Shared room   50.773723        177.725061\n",
            "6            Manhattan  Entire home/apt  249.257994        117.149871\n",
            "7            Manhattan     Private room  116.776622        101.845026\n",
            "8            Manhattan      Shared room   88.977083        138.572917\n",
            "9               Queens  Entire home/apt  147.050573        132.267176\n",
            "10              Queens     Private room   71.762456        149.222716\n",
            "11              Queens      Shared room   69.020202        192.186869\n",
            "12       Staten Island  Entire home/apt  173.846591        178.073864\n",
            "13       Staten Island     Private room   62.292553        226.361702\n",
            "14       Staten Island      Shared room   57.444444         64.777778\n"
          ]
        }
      ]
    },
    {
      "cell_type": "markdown",
      "source": [
        "**3. Top Performing Hosts/Regions**"
      ],
      "metadata": {
        "id": "VplDScFE6gqw"
      }
    },
    {
      "cell_type": "code",
      "source": [
        "# Top 10 neighborhoods by average price with > 50 listings\n",
        "top_neighborhoods = df.groupby('neighbourhood').filter(lambda x: len(x) > 50)\n",
        "top_avg_price = top_neighborhoods.groupby('neighbourhood')['price'].mean().sort_values(ascending=False).head(10)\n",
        "print(top_avg_price)\n"
      ],
      "metadata": {
        "colab": {
          "base_uri": "https://localhost:8080/"
        },
        "id": "1cCsnq3b6lHh",
        "outputId": "9d1a59a6-aea9-4242-b34d-45a1917ca1c4"
      },
      "execution_count": 3,
      "outputs": [
        {
          "output_type": "stream",
          "name": "stdout",
          "text": [
            "neighbourhood\n",
            "Tribeca              490.638418\n",
            "Battery Park City    367.557143\n",
            "Flatiron District    341.925000\n",
            "NoHo                 295.717949\n",
            "SoHo                 287.103352\n",
            "Midtown              282.719094\n",
            "West Village         267.682292\n",
            "Greenwich Village    263.405612\n",
            "Chelsea              249.738544\n",
            "Theater District     248.013889\n",
            "Name: price, dtype: float64\n"
          ]
        }
      ]
    },
    {
      "cell_type": "markdown",
      "source": [
        "** 4. Simulate Platform Competition (Hosts vs. Guests)**"
      ],
      "metadata": {
        "id": "ZizSXJg26JUy"
      }
    },
    {
      "cell_type": "code",
      "source": [
        "# Supply = number of listings per borough; Demand = number of reviews (proxy)\n",
        "competition = df.groupby('neighbourhood_group').agg({\n",
        "    'id': 'count', 'number_of_reviews': 'sum'\n",
        "}).rename(columns={'id': 'supply', 'number_of_reviews': 'demand'})\n",
        "competition['competition_index'] = competition['demand'] / competition['supply']\n",
        "print(competition)\n"
      ],
      "metadata": {
        "colab": {
          "base_uri": "https://localhost:8080/"
        },
        "id": "VfDnqiTT6yro",
        "outputId": "09025187-f155-44d5-dd84-39573949258f"
      },
      "execution_count": 4,
      "outputs": [
        {
          "output_type": "stream",
          "name": "stdout",
          "text": [
            "                     supply  demand  competition_index\n",
            "neighbourhood_group                                   \n",
            "Bronx                  1090   28316          25.977982\n",
            "Brooklyn              20095  486252          24.197661\n",
            "Manhattan             21660  454569          20.986565\n",
            "Queens                 5666  156950          27.700318\n",
            "Staten Island           373   11541          30.941019\n"
          ]
        }
      ]
    },
    {
      "cell_type": "markdown",
      "source": [
        "**Large-Scale Temporal Data Analysis**"
      ],
      "metadata": {
        "id": "jHi5K-lr8fwh"
      }
    },
    {
      "cell_type": "markdown",
      "source": [
        "**1. Load & Combine Uber Datasets**"
      ],
      "metadata": {
        "id": "a-Uip9Ni_URb"
      }
    },
    {
      "cell_type": "code",
      "execution_count": 5,
      "metadata": {
        "colab": {
          "base_uri": "https://localhost:8080/",
          "height": 206
        },
        "id": "9MU9ASWC5U6S",
        "outputId": "661de997-7010-43e1-d9f6-ee67742353bc"
      },
      "outputs": [
        {
          "output_type": "execute_result",
          "data": {
            "text/plain": [
              "            Date/Time      Lat      Lon    Base Dispatching_base_num  \\\n",
              "0 2014-09-01 00:01:00  40.2201 -74.0021  B02512                  NaN   \n",
              "1 2014-09-01 00:01:00  40.7500 -74.0027  B02512                  NaN   \n",
              "2 2014-09-01 00:03:00  40.7559 -73.9864  B02512                  NaN   \n",
              "3 2014-09-01 00:06:00  40.7450 -73.9889  B02512                  NaN   \n",
              "4 2014-09-01 00:11:00  40.8145 -73.9444  B02512                  NaN   \n",
              "\n",
              "  Pickup_date Affiliated_base_num  locationID  hour weekday  month      lat  \\\n",
              "0         NaN                 NaN         NaN   0.0  Monday    9.0  40.2201   \n",
              "1         NaN                 NaN         NaN   0.0  Monday    9.0  40.7500   \n",
              "2         NaN                 NaN         NaN   0.0  Monday    9.0  40.7559   \n",
              "3         NaN                 NaN         NaN   0.0  Monday    9.0  40.7450   \n",
              "4         NaN                 NaN         NaN   0.0  Monday    9.0  40.8145   \n",
              "\n",
              "       lon  \n",
              "0 -74.0021  \n",
              "1 -74.0027  \n",
              "2 -73.9864  \n",
              "3 -73.9889  \n",
              "4 -73.9444  "
            ],
            "text/html": [
              "\n",
              "  <div id=\"df-a929a39b-0cca-4718-a015-bfa1b35b21b1\" class=\"colab-df-container\">\n",
              "    <div>\n",
              "<style scoped>\n",
              "    .dataframe tbody tr th:only-of-type {\n",
              "        vertical-align: middle;\n",
              "    }\n",
              "\n",
              "    .dataframe tbody tr th {\n",
              "        vertical-align: top;\n",
              "    }\n",
              "\n",
              "    .dataframe thead th {\n",
              "        text-align: right;\n",
              "    }\n",
              "</style>\n",
              "<table border=\"1\" class=\"dataframe\">\n",
              "  <thead>\n",
              "    <tr style=\"text-align: right;\">\n",
              "      <th></th>\n",
              "      <th>Date/Time</th>\n",
              "      <th>Lat</th>\n",
              "      <th>Lon</th>\n",
              "      <th>Base</th>\n",
              "      <th>Dispatching_base_num</th>\n",
              "      <th>Pickup_date</th>\n",
              "      <th>Affiliated_base_num</th>\n",
              "      <th>locationID</th>\n",
              "      <th>hour</th>\n",
              "      <th>weekday</th>\n",
              "      <th>month</th>\n",
              "      <th>lat</th>\n",
              "      <th>lon</th>\n",
              "    </tr>\n",
              "  </thead>\n",
              "  <tbody>\n",
              "    <tr>\n",
              "      <th>0</th>\n",
              "      <td>2014-09-01 00:01:00</td>\n",
              "      <td>40.2201</td>\n",
              "      <td>-74.0021</td>\n",
              "      <td>B02512</td>\n",
              "      <td>NaN</td>\n",
              "      <td>NaN</td>\n",
              "      <td>NaN</td>\n",
              "      <td>NaN</td>\n",
              "      <td>0.0</td>\n",
              "      <td>Monday</td>\n",
              "      <td>9.0</td>\n",
              "      <td>40.2201</td>\n",
              "      <td>-74.0021</td>\n",
              "    </tr>\n",
              "    <tr>\n",
              "      <th>1</th>\n",
              "      <td>2014-09-01 00:01:00</td>\n",
              "      <td>40.7500</td>\n",
              "      <td>-74.0027</td>\n",
              "      <td>B02512</td>\n",
              "      <td>NaN</td>\n",
              "      <td>NaN</td>\n",
              "      <td>NaN</td>\n",
              "      <td>NaN</td>\n",
              "      <td>0.0</td>\n",
              "      <td>Monday</td>\n",
              "      <td>9.0</td>\n",
              "      <td>40.7500</td>\n",
              "      <td>-74.0027</td>\n",
              "    </tr>\n",
              "    <tr>\n",
              "      <th>2</th>\n",
              "      <td>2014-09-01 00:03:00</td>\n",
              "      <td>40.7559</td>\n",
              "      <td>-73.9864</td>\n",
              "      <td>B02512</td>\n",
              "      <td>NaN</td>\n",
              "      <td>NaN</td>\n",
              "      <td>NaN</td>\n",
              "      <td>NaN</td>\n",
              "      <td>0.0</td>\n",
              "      <td>Monday</td>\n",
              "      <td>9.0</td>\n",
              "      <td>40.7559</td>\n",
              "      <td>-73.9864</td>\n",
              "    </tr>\n",
              "    <tr>\n",
              "      <th>3</th>\n",
              "      <td>2014-09-01 00:06:00</td>\n",
              "      <td>40.7450</td>\n",
              "      <td>-73.9889</td>\n",
              "      <td>B02512</td>\n",
              "      <td>NaN</td>\n",
              "      <td>NaN</td>\n",
              "      <td>NaN</td>\n",
              "      <td>NaN</td>\n",
              "      <td>0.0</td>\n",
              "      <td>Monday</td>\n",
              "      <td>9.0</td>\n",
              "      <td>40.7450</td>\n",
              "      <td>-73.9889</td>\n",
              "    </tr>\n",
              "    <tr>\n",
              "      <th>4</th>\n",
              "      <td>2014-09-01 00:11:00</td>\n",
              "      <td>40.8145</td>\n",
              "      <td>-73.9444</td>\n",
              "      <td>B02512</td>\n",
              "      <td>NaN</td>\n",
              "      <td>NaN</td>\n",
              "      <td>NaN</td>\n",
              "      <td>NaN</td>\n",
              "      <td>0.0</td>\n",
              "      <td>Monday</td>\n",
              "      <td>9.0</td>\n",
              "      <td>40.8145</td>\n",
              "      <td>-73.9444</td>\n",
              "    </tr>\n",
              "  </tbody>\n",
              "</table>\n",
              "</div>\n",
              "    <div class=\"colab-df-buttons\">\n",
              "\n",
              "  <div class=\"colab-df-container\">\n",
              "    <button class=\"colab-df-convert\" onclick=\"convertToInteractive('df-a929a39b-0cca-4718-a015-bfa1b35b21b1')\"\n",
              "            title=\"Convert this dataframe to an interactive table.\"\n",
              "            style=\"display:none;\">\n",
              "\n",
              "  <svg xmlns=\"http://www.w3.org/2000/svg\" height=\"24px\" viewBox=\"0 -960 960 960\">\n",
              "    <path d=\"M120-120v-720h720v720H120Zm60-500h600v-160H180v160Zm220 220h160v-160H400v160Zm0 220h160v-160H400v160ZM180-400h160v-160H180v160Zm440 0h160v-160H620v160ZM180-180h160v-160H180v160Zm440 0h160v-160H620v160Z\"/>\n",
              "  </svg>\n",
              "    </button>\n",
              "\n",
              "  <style>\n",
              "    .colab-df-container {\n",
              "      display:flex;\n",
              "      gap: 12px;\n",
              "    }\n",
              "\n",
              "    .colab-df-convert {\n",
              "      background-color: #E8F0FE;\n",
              "      border: none;\n",
              "      border-radius: 50%;\n",
              "      cursor: pointer;\n",
              "      display: none;\n",
              "      fill: #1967D2;\n",
              "      height: 32px;\n",
              "      padding: 0 0 0 0;\n",
              "      width: 32px;\n",
              "    }\n",
              "\n",
              "    .colab-df-convert:hover {\n",
              "      background-color: #E2EBFA;\n",
              "      box-shadow: 0px 1px 2px rgba(60, 64, 67, 0.3), 0px 1px 3px 1px rgba(60, 64, 67, 0.15);\n",
              "      fill: #174EA6;\n",
              "    }\n",
              "\n",
              "    .colab-df-buttons div {\n",
              "      margin-bottom: 4px;\n",
              "    }\n",
              "\n",
              "    [theme=dark] .colab-df-convert {\n",
              "      background-color: #3B4455;\n",
              "      fill: #D2E3FC;\n",
              "    }\n",
              "\n",
              "    [theme=dark] .colab-df-convert:hover {\n",
              "      background-color: #434B5C;\n",
              "      box-shadow: 0px 1px 3px 1px rgba(0, 0, 0, 0.15);\n",
              "      filter: drop-shadow(0px 1px 2px rgba(0, 0, 0, 0.3));\n",
              "      fill: #FFFFFF;\n",
              "    }\n",
              "  </style>\n",
              "\n",
              "    <script>\n",
              "      const buttonEl =\n",
              "        document.querySelector('#df-a929a39b-0cca-4718-a015-bfa1b35b21b1 button.colab-df-convert');\n",
              "      buttonEl.style.display =\n",
              "        google.colab.kernel.accessAllowed ? 'block' : 'none';\n",
              "\n",
              "      async function convertToInteractive(key) {\n",
              "        const element = document.querySelector('#df-a929a39b-0cca-4718-a015-bfa1b35b21b1');\n",
              "        const dataTable =\n",
              "          await google.colab.kernel.invokeFunction('convertToInteractive',\n",
              "                                                    [key], {});\n",
              "        if (!dataTable) return;\n",
              "\n",
              "        const docLinkHtml = 'Like what you see? Visit the ' +\n",
              "          '<a target=\"_blank\" href=https://colab.research.google.com/notebooks/data_table.ipynb>data table notebook</a>'\n",
              "          + ' to learn more about interactive tables.';\n",
              "        element.innerHTML = '';\n",
              "        dataTable['output_type'] = 'display_data';\n",
              "        await google.colab.output.renderOutput(dataTable, element);\n",
              "        const docLink = document.createElement('div');\n",
              "        docLink.innerHTML = docLinkHtml;\n",
              "        element.appendChild(docLink);\n",
              "      }\n",
              "    </script>\n",
              "  </div>\n",
              "\n",
              "\n",
              "    <div id=\"df-fbcaee53-ed21-4326-a566-60a2146cc977\">\n",
              "      <button class=\"colab-df-quickchart\" onclick=\"quickchart('df-fbcaee53-ed21-4326-a566-60a2146cc977')\"\n",
              "                title=\"Suggest charts\"\n",
              "                style=\"display:none;\">\n",
              "\n",
              "<svg xmlns=\"http://www.w3.org/2000/svg\" height=\"24px\"viewBox=\"0 0 24 24\"\n",
              "     width=\"24px\">\n",
              "    <g>\n",
              "        <path d=\"M19 3H5c-1.1 0-2 .9-2 2v14c0 1.1.9 2 2 2h14c1.1 0 2-.9 2-2V5c0-1.1-.9-2-2-2zM9 17H7v-7h2v7zm4 0h-2V7h2v10zm4 0h-2v-4h2v4z\"/>\n",
              "    </g>\n",
              "</svg>\n",
              "      </button>\n",
              "\n",
              "<style>\n",
              "  .colab-df-quickchart {\n",
              "      --bg-color: #E8F0FE;\n",
              "      --fill-color: #1967D2;\n",
              "      --hover-bg-color: #E2EBFA;\n",
              "      --hover-fill-color: #174EA6;\n",
              "      --disabled-fill-color: #AAA;\n",
              "      --disabled-bg-color: #DDD;\n",
              "  }\n",
              "\n",
              "  [theme=dark] .colab-df-quickchart {\n",
              "      --bg-color: #3B4455;\n",
              "      --fill-color: #D2E3FC;\n",
              "      --hover-bg-color: #434B5C;\n",
              "      --hover-fill-color: #FFFFFF;\n",
              "      --disabled-bg-color: #3B4455;\n",
              "      --disabled-fill-color: #666;\n",
              "  }\n",
              "\n",
              "  .colab-df-quickchart {\n",
              "    background-color: var(--bg-color);\n",
              "    border: none;\n",
              "    border-radius: 50%;\n",
              "    cursor: pointer;\n",
              "    display: none;\n",
              "    fill: var(--fill-color);\n",
              "    height: 32px;\n",
              "    padding: 0;\n",
              "    width: 32px;\n",
              "  }\n",
              "\n",
              "  .colab-df-quickchart:hover {\n",
              "    background-color: var(--hover-bg-color);\n",
              "    box-shadow: 0 1px 2px rgba(60, 64, 67, 0.3), 0 1px 3px 1px rgba(60, 64, 67, 0.15);\n",
              "    fill: var(--button-hover-fill-color);\n",
              "  }\n",
              "\n",
              "  .colab-df-quickchart-complete:disabled,\n",
              "  .colab-df-quickchart-complete:disabled:hover {\n",
              "    background-color: var(--disabled-bg-color);\n",
              "    fill: var(--disabled-fill-color);\n",
              "    box-shadow: none;\n",
              "  }\n",
              "\n",
              "  .colab-df-spinner {\n",
              "    border: 2px solid var(--fill-color);\n",
              "    border-color: transparent;\n",
              "    border-bottom-color: var(--fill-color);\n",
              "    animation:\n",
              "      spin 1s steps(1) infinite;\n",
              "  }\n",
              "\n",
              "  @keyframes spin {\n",
              "    0% {\n",
              "      border-color: transparent;\n",
              "      border-bottom-color: var(--fill-color);\n",
              "      border-left-color: var(--fill-color);\n",
              "    }\n",
              "    20% {\n",
              "      border-color: transparent;\n",
              "      border-left-color: var(--fill-color);\n",
              "      border-top-color: var(--fill-color);\n",
              "    }\n",
              "    30% {\n",
              "      border-color: transparent;\n",
              "      border-left-color: var(--fill-color);\n",
              "      border-top-color: var(--fill-color);\n",
              "      border-right-color: var(--fill-color);\n",
              "    }\n",
              "    40% {\n",
              "      border-color: transparent;\n",
              "      border-right-color: var(--fill-color);\n",
              "      border-top-color: var(--fill-color);\n",
              "    }\n",
              "    60% {\n",
              "      border-color: transparent;\n",
              "      border-right-color: var(--fill-color);\n",
              "    }\n",
              "    80% {\n",
              "      border-color: transparent;\n",
              "      border-right-color: var(--fill-color);\n",
              "      border-bottom-color: var(--fill-color);\n",
              "    }\n",
              "    90% {\n",
              "      border-color: transparent;\n",
              "      border-bottom-color: var(--fill-color);\n",
              "    }\n",
              "  }\n",
              "</style>\n",
              "\n",
              "      <script>\n",
              "        async function quickchart(key) {\n",
              "          const quickchartButtonEl =\n",
              "            document.querySelector('#' + key + ' button');\n",
              "          quickchartButtonEl.disabled = true;  // To prevent multiple clicks.\n",
              "          quickchartButtonEl.classList.add('colab-df-spinner');\n",
              "          try {\n",
              "            const charts = await google.colab.kernel.invokeFunction(\n",
              "                'suggestCharts', [key], {});\n",
              "          } catch (error) {\n",
              "            console.error('Error during call to suggestCharts:', error);\n",
              "          }\n",
              "          quickchartButtonEl.classList.remove('colab-df-spinner');\n",
              "          quickchartButtonEl.classList.add('colab-df-quickchart-complete');\n",
              "        }\n",
              "        (() => {\n",
              "          let quickchartButtonEl =\n",
              "            document.querySelector('#df-fbcaee53-ed21-4326-a566-60a2146cc977 button');\n",
              "          quickchartButtonEl.style.display =\n",
              "            google.colab.kernel.accessAllowed ? 'block' : 'none';\n",
              "        })();\n",
              "      </script>\n",
              "    </div>\n",
              "\n",
              "    </div>\n",
              "  </div>\n"
            ],
            "application/vnd.google.colaboratory.intrinsic+json": {
              "type": "dataframe",
              "variable_name": "df"
            }
          },
          "metadata": {},
          "execution_count": 5
        }
      ],
      "source": [
        "import pandas as pd\n",
        "from glob import glob\n",
        "\n",
        "# Combine multiple monthly files\n",
        "files = glob('/content/uber-raw-data-*.csv')\n",
        "df_list = [pd.read_csv(f) for f in files]\n",
        "df = pd.concat(df_list, ignore_index=True)\n",
        "\n",
        "# Parse datetime\n",
        "df['Date/Time'] = pd.to_datetime(df['Date/Time'])\n",
        "df['hour'] = df['Date/Time'].dt.hour\n",
        "df['weekday'] = df['Date/Time'].dt.day_name()\n",
        "df['month'] = df['Date/Time'].dt.month\n",
        "df['lat'] = df['Lat']\n",
        "df['lon'] = df['Lon']\n",
        "df.head()\n"
      ]
    },
    {
      "cell_type": "markdown",
      "source": [
        "**2. Time Series: Demand by Hour & Day**"
      ],
      "metadata": {
        "id": "6MK9hOVO_k0L"
      }
    },
    {
      "cell_type": "code",
      "source": [
        "# Average pickups by hour\n",
        "hourly = df.groupby('hour').size()\n",
        "hourly.plot(kind='bar', title='Average Pickups by Hour')\n"
      ],
      "metadata": {
        "colab": {
          "base_uri": "https://localhost:8080/",
          "height": 507
        },
        "id": "SE1BWOuS_q2D",
        "outputId": "2836c921-cf4a-4f73-c70e-18db698d4f80"
      },
      "execution_count": 6,
      "outputs": [
        {
          "output_type": "execute_result",
          "data": {
            "text/plain": [
              "<Axes: title={'center': 'Average Pickups by Hour'}, xlabel='hour'>"
            ]
          },
          "metadata": {},
          "execution_count": 6
        },
        {
          "output_type": "display_data",
          "data": {
            "text/plain": [
              "<Figure size 640x480 with 1 Axes>"
            ],
            "image/png": "[encoded data removed]"
          },
          "metadata": {}
        }
      ]
    },
    {
      "cell_type": "code",
      "source": [
        "# Demand by weekday\n",
        "weekday = df.groupby('weekday').size().reindex([\n",
        "    'Monday', 'Tuesday', 'Wednesday', 'Thursday', 'Friday', 'Saturday', 'Sunday'])\n",
        "weekday.plot(kind='bar', title='Demand by Weekday')\n"
      ],
      "metadata": {
        "colab": {
          "base_uri": "https://localhost:8080/",
          "height": 556
        },
        "id": "32Vh0s1v_unn",
        "outputId": "6c300ab1-d24d-442d-b369-a257a1a225d9"
      },
      "execution_count": 7,
      "outputs": [
        {
          "output_type": "execute_result",
          "data": {
            "text/plain": [
              "<Axes: title={'center': 'Demand by Weekday'}, xlabel='weekday'>"
            ]
          },
          "metadata": {},
          "execution_count": 7
        },
        {
          "output_type": "display_data",
          "data": {
            "text/plain": [
              "<Figure size 640x480 with 1 Axes>"
            ],
            "image/png": "[encoded data removed]"
          },
          "metadata": {}
        }
      ]
    },
    {
      "cell_type": "markdown",
      "source": [
        "**3. Geospatial Clustering (K-Means)**"
      ],
      "metadata": {
        "id": "DssjLGKw_zoj"
      }
    },
    {
      "cell_type": "code",
      "source": [
        "from sklearn.cluster import KMeans\n",
        "import matplotlib.pyplot as plt\n",
        "\n",
        "sample = df[['lat', 'lon']].dropna().sample(10000)\n",
        "kmeans = KMeans(n_clusters=5, random_state=0).fit(sample)\n",
        "sample['cluster'] = kmeans.labels_\n",
        "\n",
        "plt.scatter(sample['lon'], sample['lat'], c=sample['cluster'], alpha=0.5)\n",
        "plt.title(\"Uber Pickups - Geospatial Clusters\")\n",
        "plt.xlabel(\"Longitude\")\n",
        "plt.ylabel(\"Latitude\")\n",
        "plt.show()\n"
      ],
      "metadata": {
        "colab": {
          "base_uri": "https://localhost:8080/",
          "height": 472
        },
        "id": "N4yeO-0z_4g0",
        "outputId": "d3138544-c1e2-4f00-eda1-f3f8e058d004"
      },
      "execution_count": 8,
      "outputs": [
        {
          "output_type": "display_data",
          "data": {
            "text/plain": [
              "<Figure size 640x480 with 1 Axes>"
            ],
            "image/png": "[encoded data removed]"
          },
          "metadata": {}
        }
      ]
    },
    {
      "cell_type": "markdown",
      "source": [
        "**4. Operational Analytics: Rush Hour vs. Non-Rush**"
      ],
      "metadata": {
        "id": "mzKhIfEL_9mU"
      }
    },
    {
      "cell_type": "code",
      "source": [
        "df['rush_hour'] = df['hour'].apply(lambda h: h in [7, 8, 9, 16, 17, 18])\n",
        "rush_stats = df.groupby('rush_hour').size()\n",
        "print(rush_stats)\n"
      ],
      "metadata": {
        "colab": {
          "base_uri": "https://localhost:8080/"
        },
        "id": "PRH-dkhIAE2X",
        "outputId": "d7a34c8a-71ce-4c99-b7a3-949137a936be"
      },
      "execution_count": 9,
      "outputs": [
        {
          "output_type": "stream",
          "name": "stdout",
          "text": [
            "rush_hour\n",
            "False    17286972\n",
            "True      1517834\n",
            "dtype: int64\n"
          ]
        }
      ]
    },
    {
      "cell_type": "markdown",
      "source": [
        "**5. Causal Analysis — Simulate Weather Impact**"
      ],
      "metadata": {
        "id": "Nx-Te_yEAJdT"
      }
    },
    {
      "cell_type": "code",
      "source": [
        "# Simulate weather condition (example)\n",
        "import numpy as np\n",
        "df['rain'] = np.random.choice([0, 1], size=len(df), p=[0.85, 0.15])\n",
        "\n",
        "# Compare average demand\n",
        "rain_demand = df.groupby('rain').size()\n",
        "print(\"Rain (1) vs No Rain (0) Pickup Counts:\\n\", rain_demand)\n"
      ],
      "metadata": {
        "colab": {
          "base_uri": "https://localhost:8080/"
        },
        "id": "B80QRp74ATTT",
        "outputId": "6dd4face-2af8-4d20-821a-b10cc60db43f"
      },
      "execution_count": 10,
      "outputs": [
        {
          "output_type": "stream",
          "name": "stdout",
          "text": [
            "Rain (1) vs No Rain (0) Pickup Counts:\n",
            " rain\n",
            "0    15983990\n",
            "1     2820816\n",
            "dtype: int64\n"
          ]
        }
      ]
    },
    {
      "cell_type": "markdown",
      "source": [
        "**Causal Inference & Business Strategy**"
      ],
      "metadata": {
        "id": "CrXeKz9eIZLW"
      }
    },
    {
      "cell_type": "markdown",
      "source": [
        "**Causal Inference**"
      ],
      "metadata": {
        "id": "UDxtY4ghMNoC"
      }
    },
    {
      "cell_type": "code",
      "source": [
        "import pandas as pd\n",
        "from sklearn.linear_model import LogisticRegression\n",
        "\n",
        "# 1. Load and clean\n",
        "df = pd.read_csv('/content/marketing_AB.csv')\n",
        "\n",
        "# 2. Standardize column names\n",
        "df.columns = df.columns.str.strip().str.lower().str.replace(' ', '_')\n",
        "\n",
        "# 3. Encode 'test_group' (assume 'ad' = treated)\n",
        "df['test_group'] = df['test_group'].apply(lambda x: 1 if x == 'ad' else 0)\n",
        "\n",
        "# 4. Convert 'converted' from True/False to 1/0\n",
        "df['converted'] = df['converted'].astype(int)\n",
        "\n",
        "# 5. Convert other fields to numeric\n",
        "df['total_ads'] = pd.to_numeric(df['total_ads'], errors='coerce')\n",
        "df['most_ads_hour'] = pd.to_numeric(df['most_ads_hour'], errors='coerce')\n",
        "\n",
        "# 6. Drop missing rows\n",
        "df.dropna(subset=['total_ads', 'most_ads_hour', 'test_group'], inplace=True)\n",
        "\n",
        "# 7. Propensity score modeling\n",
        "features = ['total_ads', 'most_ads_hour']\n",
        "X = df[features]\n",
        "y = df['test_group']\n",
        "\n",
        "model = LogisticRegression()\n",
        "model.fit(X, y)\n",
        "df['propensity_score'] = model.predict_proba(X)[:, 1]\n",
        "\n",
        "# 8. Weighted ATE (causal inference)\n",
        "df['weight'] = df['test_group'] / df['propensity_score'] + \\\n",
        "               (1 - df['test_group']) / (1 - df['propensity_score'])\n",
        "\n",
        "weighted_ate = (\n",
        "    (df['converted'] * df['test_group'] / df['propensity_score']).mean() -\n",
        "    (df['converted'] * (1 - df['test_group']) / (1 - df['propensity_score'])).mean()\n",
        ")\n",
        "\n",
        "print(f\"\\nWeighted ATE (Campaign A causal effect estimate): {weighted_ate:.4f}\")\n",
        "\n"
      ],
      "metadata": {
        "colab": {
          "base_uri": "https://localhost:8080/"
        },
        "id": "ouCGUeI_LZ2P",
        "outputId": "21b87999-6d50-48f6-9e24-14cf89401b92"
      },
      "execution_count": 27,
      "outputs": [
        {
          "output_type": "stream",
          "name": "stdout",
          "text": [
            "\n",
            "Weighted ATE (Campaign A causal effect estimate): 0.0075\n"
          ]
        }
      ]
    },
    {
      "cell_type": "markdown",
      "source": [
        "**Interpret Results for Business Strategy**"
      ],
      "metadata": {
        "id": "SKL-Bue5MZMl"
      }
    },
    {
      "cell_type": "code",
      "source": [
        "print(f\"Weighted ATE: {weighted_ate:.4f}\")\n"
      ],
      "metadata": {
        "colab": {
          "base_uri": "https://localhost:8080/"
        },
        "id": "xFIW0wZxMbSu",
        "outputId": "e81e6920-8d1d-4be9-aaed-b10ca35f9ea5"
      },
      "execution_count": 28,
      "outputs": [
        {
          "output_type": "stream",
          "name": "stdout",
          "text": [
            "Weighted ATE: 0.0075\n"
          ]
        }
      ]
    },
    {
      "cell_type": "markdown",
      "source": [
        "**Challenges**"
      ],
      "metadata": {
        "id": "M0BDyWOoTVDP"
      }
    },
    {
      "cell_type": "markdown",
      "source": [
        "- Sparse or skewed data (e.g., reviews ≠ demand)\n",
        "\n",
        "- Lack of ground-truth counterfactuals in observational datasets\n",
        "\n",
        "- Dataset scale requiring sampling for geospatial clustering\n",
        "\n",
        "- Simulated conditions (e.g., weather, rain) to fill data gaps\n",
        "\n"
      ],
      "metadata": {
        "id": "3KV2XY_xTaZT"
      }
    },
    {
      "cell_type": "markdown",
      "source": [
        "**Problem Statement**"
      ],
      "metadata": {
        "id": "1GPqbERRTe6j"
      }
    },
    {
      "cell_type": "markdown",
      "source": [
        "How can AI/ML-driven insights from marketplace and mobility datasets improve pricing, strategic allocation, and marketing decisions in real-time, multi-agent competitive environments?"
      ],
      "metadata": {
        "id": "-e34scwSTiaD"
      }
    },
    {
      "cell_type": "markdown",
      "source": [
        "**Datasets Used**"
      ],
      "metadata": {
        "id": "8nLJ90UJTlRb"
      }
    },
    {
      "cell_type": "markdown",
      "source": [
        "| Dataset               | Source              | Use Case                                    |\n",
        "| --------------------- | ------------------- | ------------------------------------------- |\n",
        "| `AB_NYC_2019.csv`     | Kaggle (Airbnb NYC) | Price, host competition, occupancy analysis |\n",
        "| `uber-raw-data-*.csv` | FiveThirtyEight     | Demand forecasting, time series clustering  |\n",
        "| `marketing_AB.csv`    | Simulated (CSV)     | Causal inference on conversion rates        |\n"
      ],
      "metadata": {
        "id": "6oITIdIFToz_"
      }
    },
    {
      "cell_type": "markdown",
      "source": [
        "**MACHINE LEARNING PREDICTION & OUTCOMES**"
      ],
      "metadata": {
        "id": "EXDAIoVMTsfX"
      }
    },
    {
      "cell_type": "markdown",
      "source": [
        "| Task                             | Model / Method       | Outcome                                         |\n",
        "| -------------------------------- | -------------------- | ----------------------------------------------- |\n",
        "| Propensity score estimation      | Logistic Regression  | Probability of user being shown Campaign A      |\n",
        "| Demand clustering (Uber pickups) | K-Means              | 5 geographic clusters based on pickup volume    |\n",
        "| Platform competition             | Descriptive Ratio    | Competition index by borough (reviews/listings) |\n",
        "| Price prediction (Airbnb)        | Aggregation/Analysis | Borough-wise average pricing & occupancy        |\n"
      ],
      "metadata": {
        "id": "i3vcrHQBTwxy"
      }
    },
    {
      "cell_type": "markdown",
      "source": [
        "**Trailer Documentation**"
      ],
      "metadata": {
        "id": "g6goCpz7TzrT"
      }
    },
    {
      "cell_type": "markdown",
      "source": [
        "- Interactive Streamlit dashboard showing:\n",
        "\n",
        "     -  Airbnb borough-level price & availability comparisons\n",
        "\n",
        "     - Uber demand heatmaps and hourly rush analysis\n",
        "\n",
        "     - Marketing campaign effect (ATE) and recommendation system\n",
        "\n",
        "- Power BI version available for business users\n",
        "\n"
      ],
      "metadata": {
        "id": "SWzx7gvcT5W_"
      }
    },
    {
      "cell_type": "markdown",
      "source": [
        "**Conceptual Enhancement – AGI (Artificial General Intelligence)**"
      ],
      "metadata": {
        "id": "vR5Z6JBsUOKZ"
      }
    },
    {
      "cell_type": "markdown",
      "source": [
        "To extend toward AGI-inspired behavior:\n",
        "\n",
        "- Integrate multi-domain reasoning across Airbnb pricing, Uber routing, and marketing attribution\n",
        "\n",
        "- Build an autonomous agent that:\n",
        "\n",
        "    - Learns dynamic pricing based on competition & occupancy\n",
        "\n",
        "    - Predicts peak traffic using geospatial-temporal fusion\n",
        "\n",
        "    - Allocates budget by predicting causal conversion lift in real-time\n",
        "\n"
      ],
      "metadata": {
        "id": "DNSn4VnBUTlX"
      }
    },
    {
      "cell_type": "markdown",
      "source": [
        "**Reference**"
      ],
      "metadata": {
        "id": "ADbBrgz1UfTP"
      }
    },
    {
      "cell_type": "markdown",
      "source": [
        "1. Kaggle Airbnb Dataset: https://www.kaggle.com/dgomonov/new-york-city-airbnb-open-data\n",
        "\n",
        "2. Uber FOIL Data: https://github.com/fivethirtyeight/uber-tlc-foil-response\n",
        "\n",
        "3. scikit-learn documentation: https://scikit-learn.org/\n",
        "\n",
        "4. Causal Inference Guide: https://matheusfacure.github.io/python-causality-handbook/\n",
        "\n"
      ],
      "metadata": {
        "id": "v9j95GZsUkBb"
      }
    }
  ]
}